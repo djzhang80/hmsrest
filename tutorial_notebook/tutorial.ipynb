{
 "cells": [
  {
   "cell_type": "markdown",
   "id": "45b8b094",
   "metadata": {},
   "source": [
    "### 1. hmsrest installation"
   ]
  },
  {
   "cell_type": "markdown",
   "id": "a9f1c2a3",
   "metadata": {},
   "source": [
    "This Jupyter notebook demostrate how to use the Rquests libray to invoke the services provided by the hmsrest plugin. The first step is to install the hmsrest plugin. To simplefy the process, a docker image was provided for users to test the hmsrest functionalities. First, users must have a Docker engine (e.g., Docker Desktop) installed in their PC. Then, users can issue the following two command lines to start a comtainer that runs the hmsrest services:\n",
    "\n",
    "docker pull jannyarj/hmsrest:1.0\n",
    "\n",
    "docker run -it -p 8182:8182 --name hmsrest_container jannyarj/hmsrest:1.0 \n"
   ]
  },
  {
   "cell_type": "markdown",
   "id": "9c8ee18a",
   "metadata": {},
   "source": [
    "### 2. An example shows how to retrieve a parameter of hec-hms over the hmsrest"
   ]
  },
  {
   "cell_type": "code",
   "execution_count": 1,
   "id": "16305f5d",
   "metadata": {},
   "outputs": [
    {
     "name": "stdout",
     "output_type": "stream",
     "text": [
      "{\n",
      "  \"     Initial Loss\" : \" 1.3\"\n",
      "}\n"
     ]
    }
   ],
   "source": [
    "# import the requests library\n",
    "import requests\n",
    "\n",
    "# Send a request to retrieve the value of the \"Initial Loss\" parameter and save the response to the variable rs. \n",
    "# It is noted that \"tenk/Tenk_1.basin/hash-Subbasin: 113-Initial Loss\" in the URL define the route to the parameter.\n",
    "rs = requests.get('http://localhost:8182/input/parameter/tenk/Tenk_1.basin/hash-Subbasin: 113-Initial Loss')\n",
    "print(rs.text)\n",
    "# As you can see the original value of this parameter is 1.3"
   ]
  },
  {
   "cell_type": "markdown",
   "id": "62c54d02",
   "metadata": {},
   "source": [
    "--------------------------------\n",
    "Users also can use other tools to invoke the services provided by hmsrest. Following is a screenshot of using the Advantaged REST Client (ARC)(https://www.advancedrestclient.com/) to perform the same work presented above. We provided a test file that users can import to ARC to test the functionalities of hmsrest presented in this notebook. The [test file](./arc-data-export-hmsrest.json) is available on this project's repository along with this notebook."
   ]
  },
  {
   "cell_type": "markdown",
   "id": "bc72b57a",
   "metadata": {},
   "source": [
    "![retrieve parameter value](./Parameter_Retrieving.jpg)"
   ]
  },
  {
   "cell_type": "markdown",
   "id": "b30fd411",
   "metadata": {},
   "source": [
    "### 3. An example shows how to change a parameter of hec-hms over the hmsrest"
   ]
  },
  {
   "cell_type": "code",
   "execution_count": 3,
   "id": "35b51bf0",
   "metadata": {},
   "outputs": [
    {
     "name": "stdout",
     "output_type": "stream",
     "text": [
      "success\n",
      "{\n",
      "  \"     Initial Loss\" : \" 1.4\"\n",
      "}\n"
     ]
    }
   ],
   "source": [
    "# import the requests library\n",
    "import requests\n",
    "\n",
    "# Use the post method to update  the value of the \"Initial Loss\" parameter and save the response to the variable rs. \n",
    "# It is noted that \"tenk/Tenk_1.basin/hash-Subbasin: 113-Initial Loss: 1.4\" in the URL define the route to the parameter and the value you want.\n",
    "rs = requests.post('http://localhost:8182/input/parameter/tenk/Tenk_1.basin/hash-Subbasin: 113-Initial Loss: 1.4')\n",
    "print(rs.text)\n",
    "# After the change, users can retrive the value of the modified parameter\n",
    "rs = requests.get('http://localhost:8182/input/parameter/tenk/Tenk_1.basin/hash-Subbasin: 113-Initial Loss')\n",
    "print(rs.text)\n",
    "# As you can see the value of this parameter was changed"
   ]
  },
  {
   "cell_type": "markdown",
   "id": "0ad19640",
   "metadata": {},
   "source": [
    "--------------------------------\n",
    "Change a parameter via the ARC tool"
   ]
  },
  {
   "cell_type": "markdown",
   "id": "e667e38d",
   "metadata": {},
   "source": [
    "![Parameter_Editing.jpg](./Parameter_Editing.jpg)"
   ]
  },
  {
   "cell_type": "markdown",
   "id": "dce847c3",
   "metadata": {},
   "source": [
    "### 4. An example to retieve time series data"
   ]
  },
  {
   "cell_type": "code",
   "execution_count": 71,
   "id": "926f2dea",
   "metadata": {},
   "outputs": [
    {
     "data": {
      "text/plain": [
       "[<matplotlib.lines.Line2D at 0x2259525e9e0>]"
      ]
     },
     "execution_count": 71,
     "metadata": {},
     "output_type": "execute_result"
    },
    {
     "data": {
      "image/png": "[encoded data removed]",
      "text/plain": [
       "<Figure size 640x480 with 1 Axes>"
      ]
     },
     "metadata": {},
     "output_type": "display_data"
    }
   ],
   "source": [
    "# import the requests, json, matplotlib, numpy and pandas libraries\n",
    "import requests\n",
    "import json\n",
    "import matplotlib.pyplot as plt\n",
    "import numpy as np\n",
    "import pandas as pd\n",
    "\n",
    "# Retrieve time series data via the hmsrest plugin \n",
    "\n",
    "rs = requests.get('http://localhost:8182/input/timeseries/tenk/Jan_96_storm.dss/blank/113/FLOW/17JAN1996 - 19JAN1996/1HOUR/RUN:JAN 96 STORM/2400/0900')\n",
    "\n",
    "# The folloing code handles format conversion\n",
    "def custom_to_datetime(date):\n",
    "    # If the date string do not have zero-paded than add one zero  \n",
    "    if date[0]==' ':\n",
    "        date[0]=0\n",
    "    # If the time is 24, set it to 0 and increment day by 1\n",
    "    if date[-5:-3] == '24':\n",
    "        return pd.to_datetime(date[:-5], format = '%d %B %Y, ') + pd.Timedelta(days=1)\n",
    "    else:\n",
    "        return pd.to_datetime(date, format = '%d %B %Y, %H:%M')\n",
    "data = json.loads(rs.text)\n",
    "\n",
    "data=np.array(data)\n",
    "df = [{'date': list(x.keys())[0],'value':list(x.values())[0]} for x in data]\n",
    "df=pd.DataFrame(df)\n",
    "df[\"value\"] = pd.to_numeric(df[\"value\"])\n",
    "df['date'] = df['date'].apply(custom_to_datetime)  \n",
    "\n",
    "# Create a figure showing the time series data.\n",
    "fig, ax = plt.subplots()  \n",
    "ax.plot(df[\"value\"])\n",
    "\n",
    "\n"
   ]
  },
  {
   "cell_type": "markdown",
   "id": "98a07eb2",
   "metadata": {},
   "source": [
    "--------------------------------\n",
    "Retrieve a time series via ARC"
   ]
  },
  {
   "cell_type": "markdown",
   "id": "93cad0e9",
   "metadata": {},
   "source": [
    "![Time_Series_Retrieving.jpg](./Time_Series_Retrieving.jpg)"
   ]
  },
  {
   "cell_type": "markdown",
   "id": "fbbf6ca2",
   "metadata": {},
   "source": [
    "### 5. Performing a model simulation"
   ]
  },
  {
   "cell_type": "code",
   "execution_count": 62,
   "id": "052e1d11",
   "metadata": {},
   "outputs": [
    {
     "name": "stdout",
     "output_type": "stream",
     "text": [
      "Model run successfully.\n"
     ]
    }
   ],
   "source": [
    "import requests\n",
    "\n",
    "# Use the post method to perform model simulation.It is note the \"Jan 96 storm\" in the URL is the computation name.\n",
    "rs = requests.post('http://localhost:8182/model/jython/tenk/tenk/Jan 96 storm')\n",
    "print(rs.text)"
   ]
  },
  {
   "cell_type": "markdown",
   "id": "874c8c86",
   "metadata": {},
   "source": [
    "--------------------------------\n",
    "Performing a mosdel simulation via ARC"
   ]
  },
  {
   "cell_type": "markdown",
   "id": "47bc2210",
   "metadata": {},
   "source": [
    "![Model_Execution_Jython.jpg](./Model_Execution_Jython.jpg)"
   ]
  },
  {
   "cell_type": "markdown",
   "id": "26e31253",
   "metadata": {},
   "source": [
    "### 6. Update time series; This functionality allow user to change the time series input and evalue the impact of changeing of input"
   ]
  },
  {
   "cell_type": "code",
   "execution_count": 70,
   "id": "b7872e44",
   "metadata": {
    "scrolled": true
   },
   "outputs": [
    {
     "name": "stdout",
     "output_type": "stream",
     "text": [
      "Data successfully added.\n",
      "[ {\n",
      "  \"1 January 1996, 24:00\" : \"44.0\"\n",
      "}, {\n",
      "  \"2 January 1996, 01:00\" : \"55.0\"\n",
      "} ]\n"
     ]
    }
   ],
   "source": [
    "import requests\n",
    "\n",
    "# Use the put method to update time series data. It is note the data parameters provide information about the time window and the values to change.\n",
    "rs = requests.put('http://localhost:8182/input/timeseries/tenk/Jan_96_storm.dss/blank/113/FLOW/01JAN1996 - 21JAN1996/1HOUR/RUN:JAN 96 STORM/',\n",
    "                  data={\"stime\":\"2400\",\"etime\":\"0100\",\"sday\":\"01JAN1996\",\"eday\":\"02JAN1996\",\"values\":\"44,55\"}    )\n",
    "print(rs.text)\n",
    "\n",
    "# Verify if time series data had been changed\n",
    "rs = requests.get('http://localhost:8182/input/timeseries/tenk/Jan_96_storm.dss/blank/113/FLOW/01JAN1996 - 02JAN1996/1HOUR/RUN:JAN 96 STORM/2400/0100')\n",
    "print(rs.text)\n"
   ]
  },
  {
   "cell_type": "markdown",
   "id": "ed477e5d",
   "metadata": {},
   "source": [
    "--------------------------------\n",
    "Update time series via ARC"
   ]
  },
  {
   "cell_type": "markdown",
   "id": "8f722d0f",
   "metadata": {},
   "source": [
    "![Time_Series_editing.jpg](./Time_Series_editing.jpg)"
   ]
  }
 ],
 "metadata": {
  "kernelspec": {
   "display_name": "Python 3 (ipykernel)",
   "language": "python",
   "name": "python3"
  },
  "language_info": {
   "codemirror_mode": {
    "name": "ipython",
    "version": 3
   },
   "file_extension": ".py",
   "mimetype": "text/x-python",
   "name": "python",
   "nbconvert_exporter": "python",
   "pygments_lexer": "ipython3",
   "version": "3.10.11"
  }
 },
 "nbformat": 4,
 "nbformat_minor": 5
}
